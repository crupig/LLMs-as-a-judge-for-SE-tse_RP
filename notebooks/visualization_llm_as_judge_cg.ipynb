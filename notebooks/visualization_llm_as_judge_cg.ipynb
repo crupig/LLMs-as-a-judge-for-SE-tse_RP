{
 "cells": [
  {
   "cell_type": "code",
   "execution_count": 1,
   "metadata": {},
   "outputs": [],
   "source": [
    "IDS_TO_DISCARD = [\n",
    "        \"636767001a6d9265ec01787e\",\n",
    "        \"636767461a6d9265ec017d17\",\n",
    "        \"6367667f1a6d9265ec01745c\",\n",
    "        \"636766821a6d9265ec0174d2\",\n",
    "        \"6367667f1a6d9265ec017458\",\n",
    "        \"636766811a6d9265ec017499\",\n",
    "        \"6367667c1a6d9265ec0173f7\",\n",
    "        \"6367667d1a6d9265ec0173ff\",\n",
    "        \"6367667c1a6d9265ec0173fb\",\n",
    "        \"636766811a6d9265ec017496\",\n",
    "        \"636766801a6d9265ec017482\",\n",
    "        \"636766801a6d9265ec017477\",\n",
    "        \"636767781a6d9265ec01823d\",\n",
    "        \"636767791a6d9265ec018257\",\n",
    "        \"636767781a6d9265ec01823e\",\n",
    "        \"636767de1a6d9265ec01871e\",\n",
    "        \"636767de1a6d9265ec018706\",\n",
    "        \"636767dc1a6d9265ec0186c6\",\n",
    "        \"636767de1a6d9265ec018726\",\n",
    "        \"636767e11a6d9265ec018790\",\n",
    "    \n",
    "        \"636766fe1a6d9265ec017833\",\n",
    "        \"636767001a6d9265ec01787f\",\n",
    "        \"636767071a6d9265ec017962\",\n",
    "        \"636767641a6d9265ec01817d\",\n",
    "        \"636767531a6d9265ec017efb\",\n",
    "        \"6367675a1a6d9265ec018010\",\n",
    "        \"636767601a6d9265ec0180fd\",\n",
    "        \"636767641a6d9265ec018190\",\n",
    "        \"636767841a6d9265ec0183ff\",\n",
    "    \n",
    "        \"636766f81a6d9265ec017748\",\n",
    "        \"636766ef1a6d9265ec01761a\",\n",
    "        \"636766fe1a6d9265ec017823\",\n",
    "        \"636766f81a6d9265ec01774b\",\n",
    "        \"636767611a6d9265ec018106\",\n",
    "        \"636766821a6d9265ec0174b3\",\n",
    "        \"636766851a6d9265ec017515\",\n",
    "        \"636767691a6d9265ec0181ae\",\n",
    "        \"636767791a6d9265ec018263\",\n",
    "        \"636767781a6d9265ec018238\",\n",
    "        \"636767781a6d9265ec018242\",\n",
    "        \"6367677e1a6d9265ec018314\",\n",
    "        \"636767841a6d9265ec0183f2\",\n",
    "        \"636766a81a6d9265ec017596\",\n",
    "        \"636766a81a6d9265ec01757b\",\n",
    "        \"636767ab1a6d9265ec01867b\",\n",
    "        \"636767aa1a6d9265ec01865a\"\n",
    "    ]"
   ]
  },
  {
   "cell_type": "code",
   "execution_count": 2,
   "metadata": {},
   "outputs": [],
   "source": [
    "MODEL_NAMES = [\n",
    "    'DeepSeek Coder 1.3B',\n",
    "    'DeepSeek Coder 6.7B',\n",
    "    'DeepSeek Coder 33B',\n",
    "    'CodeLlama 7B',\n",
    "    'CodeLlama 13B',\n",
    "    'CodeLlama 34B',\n",
    "    'GPT-3.5-turbo',\n",
    "    'GPT-4-turbo'\n",
    "]\n",
    "\n",
    "MODEL_NAMES_SHORT = [\n",
    "    'DSC 1.3B',\n",
    "    'DSC 6.7B',\n",
    "    'DSC 33B',\n",
    "    'CL 7B',\n",
    "    'CL 13B',\n",
    "    'CL 34B',\n",
    "    'GPT 3.5',\n",
    "    'GPT 4'\n",
    "]"
   ]
  },
  {
   "cell_type": "code",
   "execution_count": 3,
   "metadata": {},
   "outputs": [],
   "source": [
    "import pandas as pd\n",
    "import numpy as np\n",
    "import seaborn as sns\n",
    "import matplotlib.pyplot as plt\n",
    "import json"
   ]
  },
  {
   "cell_type": "code",
   "execution_count": 4,
   "metadata": {},
   "outputs": [],
   "source": [
    "instances = json.load(open('/Users/giuseppecrupi/Desktop/projects/1_llms_collaboration/data/input/CoderEval4Java.json'))['RECORDS']"
   ]
  },
  {
   "cell_type": "markdown",
   "metadata": {},
   "source": [
    "# Scale"
   ]
  },
  {
   "cell_type": "code",
   "execution_count": 5,
   "metadata": {},
   "outputs": [],
   "source": [
    "# import data and add \"level\" field\n",
    "scale = pd.read_csv('../../2_llms_as_judge/results/icse25/overall/cg_judgement_java_scale_human.csv')\n",
    "level = []\n",
    "for tid in scale.target_id:\n",
    "    l = [i['level'] for i in instances if i['_id'] == str(tid)][0]\n",
    "    level.append(l)\n",
    "scale['level'] = level\n",
    "# scale = scale.loc[(scale.level == 'self_contained') | (scale.level == 'slib_runnable')]"
   ]
  },
  {
   "cell_type": "code",
   "execution_count": 6,
   "metadata": {},
   "outputs": [
    {
     "name": "stdout",
     "output_type": "stream",
     "text": [
      "Shape before cleaning : (2024, 21).\n",
      "Shape after cleaning : (1615, 21).\n",
      "\n",
      "deepseek-coder-1.3b-instruct was not able to generate a valid judgement 39 times out of 1615\n",
      "deepseek-coder-6.7b-instruct was not able to generate a valid judgement 2 times out of 1615\n",
      "deepseek-coder-33b-instruct was not able to generate a valid judgement 2 times out of 1615\n",
      "CodeLlama-7b-Instruct-hf was not able to generate a valid judgement 1 times out of 1615\n",
      "CodeLlama-13b-Instruct-hf was not able to generate a valid judgement 0 times out of 1615\n",
      "CodeLlama-34b-Instruct-hf was not able to generate a valid judgement 2 times out of 1615\n",
      "gpt-3.5-turbo was not able to generate a valid judgement 0 times out of 1615\n",
      "gpt-4-turbo was not able to generate a valid judgement 0 times out of 1615\n"
     ]
    }
   ],
   "source": [
    "print(f'Shape before cleaning : {scale.shape}.')\n",
    "scale.dropna(subset = 'generated_code', inplace = True) # exlude all the cases in which the model in charge of the code generation was not able to produce a valid prediction\n",
    "scale = scale.loc[~scale.target_id.isin(IDS_TO_DISCARD)] # exlude all the ids after the test suite cleaning\n",
    "print(f'Shape after cleaning : {scale.shape}.')\n",
    "print()\n",
    "for col in [c for c in scale.columns if '_rating' in c]:\n",
    "    scale[col] = scale[col].fillna('-')\n",
    "    scale[col] = scale[col].apply(lambda x : int(x) if x != '-' else x)\n",
    "    print('{0} was not able to generate a valid judgement {1} times out of {2}'.format(col.split('_rating')[0], scale.loc[scale[col] == '-'].shape[0], scale.shape[0]))"
   ]
  },
  {
   "cell_type": "code",
   "execution_count": 7,
   "metadata": {},
   "outputs": [
    {
     "name": "stderr",
     "output_type": "stream",
     "text": [
      "/var/folders/4l/l9t6kyb179q8hhckb219jw200000gn/T/ipykernel_51455/78437415.py:5: SettingWithCopyWarning: \n",
      "A value is trying to be set on a copy of a slice from a DataFrame\n",
      "\n",
      "See the caveats in the documentation: https://pandas.pydata.org/pandas-docs/stable/user_guide/indexing.html#returning-a-view-versus-a-copy\n",
      "  to_concat.rename(columns = {col : 'rating'}, inplace = True)\n",
      "/var/folders/4l/l9t6kyb179q8hhckb219jw200000gn/T/ipykernel_51455/78437415.py:6: SettingWithCopyWarning: \n",
      "A value is trying to be set on a copy of a slice from a DataFrame.\n",
      "Try using .loc[row_indexer,col_indexer] = value instead\n",
      "\n",
      "See the caveats in the documentation: https://pandas.pydata.org/pandas-docs/stable/user_guide/indexing.html#returning-a-view-versus-a-copy\n",
      "  to_concat['model'] = col.split('_rating')[0]\n",
      "/var/folders/4l/l9t6kyb179q8hhckb219jw200000gn/T/ipykernel_51455/78437415.py:5: SettingWithCopyWarning: \n",
      "A value is trying to be set on a copy of a slice from a DataFrame\n",
      "\n",
      "See the caveats in the documentation: https://pandas.pydata.org/pandas-docs/stable/user_guide/indexing.html#returning-a-view-versus-a-copy\n",
      "  to_concat.rename(columns = {col : 'rating'}, inplace = True)\n",
      "/var/folders/4l/l9t6kyb179q8hhckb219jw200000gn/T/ipykernel_51455/78437415.py:6: SettingWithCopyWarning: \n",
      "A value is trying to be set on a copy of a slice from a DataFrame.\n",
      "Try using .loc[row_indexer,col_indexer] = value instead\n",
      "\n",
      "See the caveats in the documentation: https://pandas.pydata.org/pandas-docs/stable/user_guide/indexing.html#returning-a-view-versus-a-copy\n",
      "  to_concat['model'] = col.split('_rating')[0]\n",
      "/var/folders/4l/l9t6kyb179q8hhckb219jw200000gn/T/ipykernel_51455/78437415.py:5: SettingWithCopyWarning: \n",
      "A value is trying to be set on a copy of a slice from a DataFrame\n",
      "\n",
      "See the caveats in the documentation: https://pandas.pydata.org/pandas-docs/stable/user_guide/indexing.html#returning-a-view-versus-a-copy\n",
      "  to_concat.rename(columns = {col : 'rating'}, inplace = True)\n",
      "/var/folders/4l/l9t6kyb179q8hhckb219jw200000gn/T/ipykernel_51455/78437415.py:6: SettingWithCopyWarning: \n",
      "A value is trying to be set on a copy of a slice from a DataFrame.\n",
      "Try using .loc[row_indexer,col_indexer] = value instead\n",
      "\n",
      "See the caveats in the documentation: https://pandas.pydata.org/pandas-docs/stable/user_guide/indexing.html#returning-a-view-versus-a-copy\n",
      "  to_concat['model'] = col.split('_rating')[0]\n",
      "/var/folders/4l/l9t6kyb179q8hhckb219jw200000gn/T/ipykernel_51455/78437415.py:5: SettingWithCopyWarning: \n",
      "A value is trying to be set on a copy of a slice from a DataFrame\n",
      "\n",
      "See the caveats in the documentation: https://pandas.pydata.org/pandas-docs/stable/user_guide/indexing.html#returning-a-view-versus-a-copy\n",
      "  to_concat.rename(columns = {col : 'rating'}, inplace = True)\n",
      "/var/folders/4l/l9t6kyb179q8hhckb219jw200000gn/T/ipykernel_51455/78437415.py:6: SettingWithCopyWarning: \n",
      "A value is trying to be set on a copy of a slice from a DataFrame.\n",
      "Try using .loc[row_indexer,col_indexer] = value instead\n",
      "\n",
      "See the caveats in the documentation: https://pandas.pydata.org/pandas-docs/stable/user_guide/indexing.html#returning-a-view-versus-a-copy\n",
      "  to_concat['model'] = col.split('_rating')[0]\n",
      "/var/folders/4l/l9t6kyb179q8hhckb219jw200000gn/T/ipykernel_51455/78437415.py:5: SettingWithCopyWarning: \n",
      "A value is trying to be set on a copy of a slice from a DataFrame\n",
      "\n",
      "See the caveats in the documentation: https://pandas.pydata.org/pandas-docs/stable/user_guide/indexing.html#returning-a-view-versus-a-copy\n",
      "  to_concat.rename(columns = {col : 'rating'}, inplace = True)\n",
      "/var/folders/4l/l9t6kyb179q8hhckb219jw200000gn/T/ipykernel_51455/78437415.py:6: SettingWithCopyWarning: \n",
      "A value is trying to be set on a copy of a slice from a DataFrame.\n",
      "Try using .loc[row_indexer,col_indexer] = value instead\n",
      "\n",
      "See the caveats in the documentation: https://pandas.pydata.org/pandas-docs/stable/user_guide/indexing.html#returning-a-view-versus-a-copy\n",
      "  to_concat['model'] = col.split('_rating')[0]\n",
      "/var/folders/4l/l9t6kyb179q8hhckb219jw200000gn/T/ipykernel_51455/78437415.py:5: SettingWithCopyWarning: \n",
      "A value is trying to be set on a copy of a slice from a DataFrame\n",
      "\n",
      "See the caveats in the documentation: https://pandas.pydata.org/pandas-docs/stable/user_guide/indexing.html#returning-a-view-versus-a-copy\n",
      "  to_concat.rename(columns = {col : 'rating'}, inplace = True)\n",
      "/var/folders/4l/l9t6kyb179q8hhckb219jw200000gn/T/ipykernel_51455/78437415.py:6: SettingWithCopyWarning: \n",
      "A value is trying to be set on a copy of a slice from a DataFrame.\n",
      "Try using .loc[row_indexer,col_indexer] = value instead\n",
      "\n",
      "See the caveats in the documentation: https://pandas.pydata.org/pandas-docs/stable/user_guide/indexing.html#returning-a-view-versus-a-copy\n",
      "  to_concat['model'] = col.split('_rating')[0]\n",
      "/var/folders/4l/l9t6kyb179q8hhckb219jw200000gn/T/ipykernel_51455/78437415.py:5: SettingWithCopyWarning: \n",
      "A value is trying to be set on a copy of a slice from a DataFrame\n",
      "\n",
      "See the caveats in the documentation: https://pandas.pydata.org/pandas-docs/stable/user_guide/indexing.html#returning-a-view-versus-a-copy\n",
      "  to_concat.rename(columns = {col : 'rating'}, inplace = True)\n",
      "/var/folders/4l/l9t6kyb179q8hhckb219jw200000gn/T/ipykernel_51455/78437415.py:6: SettingWithCopyWarning: \n",
      "A value is trying to be set on a copy of a slice from a DataFrame.\n",
      "Try using .loc[row_indexer,col_indexer] = value instead\n",
      "\n",
      "See the caveats in the documentation: https://pandas.pydata.org/pandas-docs/stable/user_guide/indexing.html#returning-a-view-versus-a-copy\n",
      "  to_concat['model'] = col.split('_rating')[0]\n",
      "/var/folders/4l/l9t6kyb179q8hhckb219jw200000gn/T/ipykernel_51455/78437415.py:5: SettingWithCopyWarning: \n",
      "A value is trying to be set on a copy of a slice from a DataFrame\n",
      "\n",
      "See the caveats in the documentation: https://pandas.pydata.org/pandas-docs/stable/user_guide/indexing.html#returning-a-view-versus-a-copy\n",
      "  to_concat.rename(columns = {col : 'rating'}, inplace = True)\n",
      "/var/folders/4l/l9t6kyb179q8hhckb219jw200000gn/T/ipykernel_51455/78437415.py:6: SettingWithCopyWarning: \n",
      "A value is trying to be set on a copy of a slice from a DataFrame.\n",
      "Try using .loc[row_indexer,col_indexer] = value instead\n",
      "\n",
      "See the caveats in the documentation: https://pandas.pydata.org/pandas-docs/stable/user_guide/indexing.html#returning-a-view-versus-a-copy\n",
      "  to_concat['model'] = col.split('_rating')[0]\n"
     ]
    }
   ],
   "source": [
    "scale_sns = pd.DataFrame()\n",
    "for col in [c for c in scale.columns if '_rating' in c]:\n",
    "    cols_to_take = ['target_id', 'generated_by', 'generated_code', 'is_pass'] + [col]\n",
    "    to_concat = scale[cols_to_take]\n",
    "    to_concat.rename(columns = {col : 'rating'}, inplace = True)\n",
    "    to_concat['model'] = col.split('_rating')[0]\n",
    "    to_concat = to_concat.loc[to_concat.rating != '-'] # exlude all the cases in which the judge model was not able to procude a valid judgement\n",
    "    scale_sns = pd.concat([scale_sns, to_concat])\n",
    "\n",
    "scale_sns['model'] = scale_sns['model'].replace('deepseek-coder-1.3b-instruct', 'DeepSeek Coder 1.3B')\n",
    "scale_sns['model'] = scale_sns['model'].replace('deepseek-coder-6.7b-instruct', 'DeepSeek Coder 6.7B')\n",
    "scale_sns['model'] = scale_sns['model'].replace('deepseek-coder-33b-instruct', 'DeepSeek Coder 33B')\n",
    "# scale_sns['model'] = scale_sns['model'].replace('DeepSeek-Coder-V2-Lite-Instruct', 'DeepSeek Coder V2 Lite')\n",
    "scale_sns['model'] = scale_sns['model'].replace('CodeLlama-7b-Instruct-hf', 'CodeLlama 7B')\n",
    "scale_sns['model'] = scale_sns['model'].replace('CodeLlama-13b-Instruct-hf', 'CodeLlama 13B')\n",
    "scale_sns['model'] = scale_sns['model'].replace('CodeLlama-34b-Instruct-hf', 'CodeLlama 34B')\n",
    "scale_sns['model'] = scale_sns['model'].replace('gpt-3.5-turbo', 'GPT-3.5-turbo')\n",
    "scale_sns['model'] = scale_sns['model'].replace('gpt-4-turbo', 'GPT-4-turbo')\n",
    "scale_sns.rename(columns = {'is_pass' : 'pass'}, inplace = True)"
   ]
  },
  {
   "cell_type": "code",
   "execution_count": 8,
   "metadata": {},
   "outputs": [
    {
     "name": "stdout",
     "output_type": "stream",
     "text": [
      "(12874, 6)\n"
     ]
    },
    {
     "data": {
      "text/html": [
       "<div>\n",
       "<style scoped>\n",
       "    .dataframe tbody tr th:only-of-type {\n",
       "        vertical-align: middle;\n",
       "    }\n",
       "\n",
       "    .dataframe tbody tr th {\n",
       "        vertical-align: top;\n",
       "    }\n",
       "\n",
       "    .dataframe thead th {\n",
       "        text-align: right;\n",
       "    }\n",
       "</style>\n",
       "<table border=\"1\" class=\"dataframe\">\n",
       "  <thead>\n",
       "    <tr style=\"text-align: right;\">\n",
       "      <th></th>\n",
       "      <th>model</th>\n",
       "      <th>pass</th>\n",
       "      <th>rating</th>\n",
       "      <th>count</th>\n",
       "      <th>median</th>\n",
       "      <th>model_number</th>\n",
       "    </tr>\n",
       "  </thead>\n",
       "  <tbody>\n",
       "    <tr>\n",
       "      <th>0</th>\n",
       "      <td>DeepSeek Coder 1.3B</td>\n",
       "      <td>-1</td>\n",
       "      <td>[4, 4, 4, 4, 4, 3, 4, 4, 4, 3, 4, 4, 4, 4, 4, ...</td>\n",
       "      <td>931</td>\n",
       "      <td>4.0</td>\n",
       "      <td>0</td>\n",
       "    </tr>\n",
       "    <tr>\n",
       "      <th>1</th>\n",
       "      <td>DeepSeek Coder 1.3B</td>\n",
       "      <td>1</td>\n",
       "      <td>[4, 4, 4, 4, 4, 4, 4, 4, 3, 4, 4, 4, 4, 4, 3, ...</td>\n",
       "      <td>645</td>\n",
       "      <td>4.0</td>\n",
       "      <td>0</td>\n",
       "    </tr>\n",
       "    <tr>\n",
       "      <th>2</th>\n",
       "      <td>DeepSeek Coder 6.7B</td>\n",
       "      <td>-1</td>\n",
       "      <td>[5, 5, 5, 5, 5, 4, 5, 5, 5, 4, 5, 5, 5, 4, 5, ...</td>\n",
       "      <td>956</td>\n",
       "      <td>5.0</td>\n",
       "      <td>1</td>\n",
       "    </tr>\n",
       "    <tr>\n",
       "      <th>3</th>\n",
       "      <td>DeepSeek Coder 6.7B</td>\n",
       "      <td>1</td>\n",
       "      <td>[5, 5, 5, 5, 5, 5, 5, 5, 5, 5, 5, 5, 5, 5, 5, ...</td>\n",
       "      <td>657</td>\n",
       "      <td>5.0</td>\n",
       "      <td>1</td>\n",
       "    </tr>\n",
       "    <tr>\n",
       "      <th>4</th>\n",
       "      <td>DeepSeek Coder 33B</td>\n",
       "      <td>-1</td>\n",
       "      <td>[5, 5, 5, 5, 5, 4, 5, 1, 5, 4, 5, 4, 5, 3, 5, ...</td>\n",
       "      <td>957</td>\n",
       "      <td>5.0</td>\n",
       "      <td>2</td>\n",
       "    </tr>\n",
       "    <tr>\n",
       "      <th>5</th>\n",
       "      <td>DeepSeek Coder 33B</td>\n",
       "      <td>1</td>\n",
       "      <td>[5, 5, 5, 5, 5, 5, 4, 5, 5, 4, 5, 5, 5, 5, 5, ...</td>\n",
       "      <td>656</td>\n",
       "      <td>5.0</td>\n",
       "      <td>2</td>\n",
       "    </tr>\n",
       "    <tr>\n",
       "      <th>6</th>\n",
       "      <td>CodeLlama 7B</td>\n",
       "      <td>-1</td>\n",
       "      <td>[5, 4, 5, 4, 5, 4, 4, 5, 4, 5, 5, 5, 4, 4, 5, ...</td>\n",
       "      <td>958</td>\n",
       "      <td>4.0</td>\n",
       "      <td>3</td>\n",
       "    </tr>\n",
       "    <tr>\n",
       "      <th>7</th>\n",
       "      <td>CodeLlama 7B</td>\n",
       "      <td>1</td>\n",
       "      <td>[5, 5, 5, 4, 4, 4, 5, 4, 5, 4, 5, 4, 5, 5, 5, ...</td>\n",
       "      <td>656</td>\n",
       "      <td>4.0</td>\n",
       "      <td>3</td>\n",
       "    </tr>\n",
       "    <tr>\n",
       "      <th>8</th>\n",
       "      <td>CodeLlama 13B</td>\n",
       "      <td>-1</td>\n",
       "      <td>[4, 4, 4, 4, 4, 4, 4, 4, 4, 4, 4, 3, 4, 4, 4, ...</td>\n",
       "      <td>958</td>\n",
       "      <td>4.0</td>\n",
       "      <td>4</td>\n",
       "    </tr>\n",
       "    <tr>\n",
       "      <th>9</th>\n",
       "      <td>CodeLlama 13B</td>\n",
       "      <td>1</td>\n",
       "      <td>[4, 4, 4, 4, 4, 4, 4, 4, 4, 4, 4, 4, 4, 4, 4, ...</td>\n",
       "      <td>657</td>\n",
       "      <td>4.0</td>\n",
       "      <td>4</td>\n",
       "    </tr>\n",
       "    <tr>\n",
       "      <th>10</th>\n",
       "      <td>CodeLlama 34B</td>\n",
       "      <td>-1</td>\n",
       "      <td>[3, 3, 4, 4, 3, 4, 3, 1, 4, 3, 4, 1, 3, 1, 4, ...</td>\n",
       "      <td>957</td>\n",
       "      <td>3.0</td>\n",
       "      <td>5</td>\n",
       "    </tr>\n",
       "    <tr>\n",
       "      <th>11</th>\n",
       "      <td>CodeLlama 34B</td>\n",
       "      <td>1</td>\n",
       "      <td>[4, 3, 5, 4, 4, 3, 3, 3, 4, 3, 3, 5, 5, 5, 3, ...</td>\n",
       "      <td>656</td>\n",
       "      <td>4.0</td>\n",
       "      <td>5</td>\n",
       "    </tr>\n",
       "    <tr>\n",
       "      <th>12</th>\n",
       "      <td>GPT-3.5-turbo</td>\n",
       "      <td>-1</td>\n",
       "      <td>[2, 3, 5, 5, 5, 5, 1, 2, 5, 4, 5, 2, 5, 2, 5, ...</td>\n",
       "      <td>958</td>\n",
       "      <td>5.0</td>\n",
       "      <td>6</td>\n",
       "    </tr>\n",
       "    <tr>\n",
       "      <th>13</th>\n",
       "      <td>GPT-3.5-turbo</td>\n",
       "      <td>1</td>\n",
       "      <td>[5, 5, 5, 5, 5, 5, 2, 5, 5, 5, 5, 5, 5, 5, 5, ...</td>\n",
       "      <td>657</td>\n",
       "      <td>5.0</td>\n",
       "      <td>6</td>\n",
       "    </tr>\n",
       "    <tr>\n",
       "      <th>14</th>\n",
       "      <td>GPT-4-turbo</td>\n",
       "      <td>-1</td>\n",
       "      <td>[4, 3, 4, 1, 5, 1, 1, 1, 5, 4, 5, 1, 2, 1, 4, ...</td>\n",
       "      <td>958</td>\n",
       "      <td>4.0</td>\n",
       "      <td>7</td>\n",
       "    </tr>\n",
       "    <tr>\n",
       "      <th>15</th>\n",
       "      <td>GPT-4-turbo</td>\n",
       "      <td>1</td>\n",
       "      <td>[5, 5, 5, 5, 5, 5, 1, 4, 5, 5, 5, 5, 5, 5, 5, ...</td>\n",
       "      <td>657</td>\n",
       "      <td>5.0</td>\n",
       "      <td>7</td>\n",
       "    </tr>\n",
       "  </tbody>\n",
       "</table>\n",
       "</div>"
      ],
      "text/plain": [
       "                  model  pass  \\\n",
       "0   DeepSeek Coder 1.3B    -1   \n",
       "1   DeepSeek Coder 1.3B     1   \n",
       "2   DeepSeek Coder 6.7B    -1   \n",
       "3   DeepSeek Coder 6.7B     1   \n",
       "4    DeepSeek Coder 33B    -1   \n",
       "5    DeepSeek Coder 33B     1   \n",
       "6          CodeLlama 7B    -1   \n",
       "7          CodeLlama 7B     1   \n",
       "8         CodeLlama 13B    -1   \n",
       "9         CodeLlama 13B     1   \n",
       "10        CodeLlama 34B    -1   \n",
       "11        CodeLlama 34B     1   \n",
       "12        GPT-3.5-turbo    -1   \n",
       "13        GPT-3.5-turbo     1   \n",
       "14          GPT-4-turbo    -1   \n",
       "15          GPT-4-turbo     1   \n",
       "\n",
       "                                               rating  count  median  \\\n",
       "0   [4, 4, 4, 4, 4, 3, 4, 4, 4, 3, 4, 4, 4, 4, 4, ...    931     4.0   \n",
       "1   [4, 4, 4, 4, 4, 4, 4, 4, 3, 4, 4, 4, 4, 4, 3, ...    645     4.0   \n",
       "2   [5, 5, 5, 5, 5, 4, 5, 5, 5, 4, 5, 5, 5, 4, 5, ...    956     5.0   \n",
       "3   [5, 5, 5, 5, 5, 5, 5, 5, 5, 5, 5, 5, 5, 5, 5, ...    657     5.0   \n",
       "4   [5, 5, 5, 5, 5, 4, 5, 1, 5, 4, 5, 4, 5, 3, 5, ...    957     5.0   \n",
       "5   [5, 5, 5, 5, 5, 5, 4, 5, 5, 4, 5, 5, 5, 5, 5, ...    656     5.0   \n",
       "6   [5, 4, 5, 4, 5, 4, 4, 5, 4, 5, 5, 5, 4, 4, 5, ...    958     4.0   \n",
       "7   [5, 5, 5, 4, 4, 4, 5, 4, 5, 4, 5, 4, 5, 5, 5, ...    656     4.0   \n",
       "8   [4, 4, 4, 4, 4, 4, 4, 4, 4, 4, 4, 3, 4, 4, 4, ...    958     4.0   \n",
       "9   [4, 4, 4, 4, 4, 4, 4, 4, 4, 4, 4, 4, 4, 4, 4, ...    657     4.0   \n",
       "10  [3, 3, 4, 4, 3, 4, 3, 1, 4, 3, 4, 1, 3, 1, 4, ...    957     3.0   \n",
       "11  [4, 3, 5, 4, 4, 3, 3, 3, 4, 3, 3, 5, 5, 5, 3, ...    656     4.0   \n",
       "12  [2, 3, 5, 5, 5, 5, 1, 2, 5, 4, 5, 2, 5, 2, 5, ...    958     5.0   \n",
       "13  [5, 5, 5, 5, 5, 5, 2, 5, 5, 5, 5, 5, 5, 5, 5, ...    657     5.0   \n",
       "14  [4, 3, 4, 1, 5, 1, 1, 1, 5, 4, 5, 1, 2, 1, 4, ...    958     4.0   \n",
       "15  [5, 5, 5, 5, 5, 5, 1, 4, 5, 5, 5, 5, 5, 5, 5, ...    657     5.0   \n",
       "\n",
       "    model_number  \n",
       "0              0  \n",
       "1              0  \n",
       "2              1  \n",
       "3              1  \n",
       "4              2  \n",
       "5              2  \n",
       "6              3  \n",
       "7              3  \n",
       "8              4  \n",
       "9              4  \n",
       "10             5  \n",
       "11             5  \n",
       "12             6  \n",
       "13             6  \n",
       "14             7  \n",
       "15             7  "
      ]
     },
     "execution_count": 8,
     "metadata": {},
     "output_type": "execute_result"
    }
   ],
   "source": [
    "print(scale_sns.shape)\n",
    "# Calculate number of obs per group & median to position labels\n",
    "medians = scale_sns.groupby(['model', 'pass'], as_index = False).agg({'rating' : list})\n",
    "medians['count'] = medians['rating'].apply(lambda x : len(x))\n",
    "medians['median'] = medians['rating'].apply(lambda x : np.median(x))\n",
    "medians['pass'] = medians['pass'].replace(0, -1)\n",
    "medians.index = [8, 9, 10, 11, 6, 7, 0, 1, 4, 5, 2, 3, 12, 13, 14, 15]\n",
    "medians.sort_index(inplace = True)\n",
    "medians['model_number'] = [0,0,1,1,2,2,3,3,4,4,5,5,6,6,7,7]\n",
    "medians"
   ]
  },
  {
   "cell_type": "code",
   "execution_count": 9,
   "metadata": {},
   "outputs": [
    {
     "data": {
      "image/png": "[encoded data removed]",
      "text/plain": [
       "<Figure size 3000x500 with 1 Axes>"
      ]
     },
     "metadata": {},
     "output_type": "display_data"
    }
   ],
   "source": [
    "scale_sns['pass'] = scale_sns['pass'].replace(1, 'pass')\n",
    "scale_sns['pass'] = scale_sns['pass'].replace(0, 'fail')\n",
    "\n",
    "plt.figure(figsize=(30,5))\n",
    "ax = sns.boxplot(data = scale_sns, y = 'rating', x = 'model', hue = 'pass', hue_order = ['fail', 'pass'])\n",
    "plt.xticks(rotation = 0, fontsize = 12)\n",
    "plt.yticks([1, 2, 3, 4, 5], fontsize = 12)\n",
    "plt.xlabel('', fontsize = 15)\n",
    "plt.ylabel('Rating', fontsize = 15)\n",
    "plt.legend(fontsize = 15, title = 'Test output', title_fontsize = 15)\n",
    "\n",
    "\n",
    "for i in range(medians.shape[0]):\n",
    "    ax.text(\n",
    "            medians['model_number'].iloc[i] + medians['pass'].iloc[i] * .2,\n",
    "            5.3,\n",
    "            # medians['median'].iloc[i] + 0.06,\n",
    "            medians['count'].iloc[i],\n",
    "            horizontalalignment = 'center',\n",
    "            size = 10,\n",
    "            color = 'black',\n",
    "            weight = 'semibold')"
   ]
  },
  {
   "cell_type": "markdown",
   "metadata": {},
   "source": [
    "# Boolean"
   ]
  },
  {
   "cell_type": "code",
   "execution_count": 5,
   "metadata": {},
   "outputs": [],
   "source": [
    "from sklearn import metrics"
   ]
  },
  {
   "cell_type": "code",
   "execution_count": 6,
   "metadata": {},
   "outputs": [],
   "source": [
    "# import data and add \"level\" field\n",
    "boolean = pd.read_csv('../../2_llms_as_judge/results/icse25/overall/cg_judgement_java_boolean_human.csv')\n",
    "level = []\n",
    "for tid in boolean.target_id:\n",
    "    l = [i['level'] for i in instances if i['_id'] == str(tid)][0]\n",
    "    level.append(l)\n",
    "boolean['level'] = level\n",
    "# boolean = boolean.loc[(boolean.level == 'self_contained') | (boolean.level == 'slib_runnable')]"
   ]
  },
  {
   "cell_type": "code",
   "execution_count": null,
   "metadata": {},
   "outputs": [
    {
     "name": "stdout",
     "output_type": "stream",
     "text": [
      "deepseek-coder-1.3b-instruct_rating : 104 human\n",
      "deepseek-coder-1.3b-instruct_rating : 824 not human\n",
      "687\n",
      "deepseek-coder-6.7b-instruct_rating : 178 human\n",
      "deepseek-coder-6.7b-instruct_rating : 1415 not human\n",
      "22\n",
      "deepseek-coder-33b-instruct_rating : 183 human\n",
      "deepseek-coder-33b-instruct_rating : 1428 not human\n",
      "4\n",
      "CodeLlama-7b-Instruct-hf_rating : 183 human\n",
      "CodeLlama-7b-Instruct-hf_rating : 1431 not human\n",
      "1\n",
      "CodeLlama-13b-Instruct-hf_rating : 181 human\n",
      "CodeLlama-13b-Instruct-hf_rating : 1431 not human\n",
      "3\n",
      "CodeLlama-34b-Instruct-hf_rating : 183 human\n",
      "CodeLlama-34b-Instruct-hf_rating : 1430 not human\n",
      "2\n",
      "gpt-3.5-turbo_rating : 184 human\n",
      "gpt-3.5-turbo_rating : 1431 not human\n",
      "0\n",
      "gpt-4-turbo_rating : 171 human\n",
      "gpt-4-turbo_rating : 1417 not human\n",
      "27\n",
      "1367 10807\n"
     ]
    }
   ],
   "source": [
    "# # to visualize the total number of judgments for cg (splitting summaries generated by LLMs or written by humans)\n",
    "# boolean.dropna(subset = 'generated_code', inplace = True) # exlude all the cases in which the model in charge of the code generation was not able to produce a valid prediction\n",
    "# boolean = boolean.loc[~boolean.target_id.isin(IDS_TO_DISCARD)] # exlude all the ids after the test suite cleaning\n",
    "\n",
    "# boolean['is_human_generated'] = boolean['generated_by'].apply(lambda x : x if x == 'human_written' else 'not_human')\n",
    "# g = boolean.groupby('is_human_generated', as_index=False).agg({\n",
    "#     'deepseek-coder-1.3b-instruct_rating' : list,\n",
    "#     'deepseek-coder-6.7b-instruct_rating' : list,\n",
    "#     'deepseek-coder-33b-instruct_rating' : list,\n",
    "#     'CodeLlama-7b-Instruct-hf_rating' : list,\n",
    "#     'CodeLlama-13b-Instruct-hf_rating' : list,\n",
    "#     'CodeLlama-34b-Instruct-hf_rating' : list,\n",
    "#     'gpt-3.5-turbo_rating' : list,\n",
    "#     'gpt-4-turbo_rating' : list\n",
    "#     })\n",
    "\n",
    "# H = 0\n",
    "# NH = 0\n",
    "# for col in [x for x in g.columns if '_rating' in x]:\n",
    "#     h = [x for x in g[col].iloc[0] if x != '-']\n",
    "#     nh = [x for x in g[col].iloc[1] if x != '-']\n",
    "#     H+=len(h)\n",
    "#     NH+=len(nh)\n",
    "#     print(f'{col} : {len(h)} human')\n",
    "#     print(f'{col} : {len(nh)} not human')\n",
    "#     print(1615 - len(h) - len(nh))\n",
    "# print(H, NH)"
   ]
  },
  {
   "cell_type": "code",
   "execution_count": 7,
   "metadata": {},
   "outputs": [
    {
     "name": "stdout",
     "output_type": "stream",
     "text": [
      "Shape before cleaning : (2024, 21).\n",
      "Shape after cleaning : (1615, 21).\n",
      "\n",
      "deepseek-coder-1.3b-instruct was not able to generate a valid judgement 687 times out of 1615\n",
      "deepseek-coder-6.7b-instruct was not able to generate a valid judgement 22 times out of 1615\n",
      "deepseek-coder-33b-instruct was not able to generate a valid judgement 4 times out of 1615\n",
      "CodeLlama-7b-Instruct-hf was not able to generate a valid judgement 1 times out of 1615\n",
      "CodeLlama-13b-Instruct-hf was not able to generate a valid judgement 3 times out of 1615\n",
      "CodeLlama-34b-Instruct-hf was not able to generate a valid judgement 2 times out of 1615\n",
      "gpt-3.5-turbo was not able to generate a valid judgement 0 times out of 1615\n",
      "gpt-4-turbo was not able to generate a valid judgement 27 times out of 1615\n",
      "\n",
      "deepseek-coder-1.3b-instruct predicts \"correct\" for target 14 out of 104 (13.46%) (fails to give a valid judgement in 80 cases).\n",
      "deepseek-coder-6.7b-instruct predicts \"correct\" for target 177 out of 178 (99.44%) (fails to give a valid judgement in 6 cases).\n",
      "deepseek-coder-33b-instruct predicts \"correct\" for target 58 out of 183 (31.69%) (fails to give a valid judgement in 1 cases).\n",
      "CodeLlama-7b-Instruct-hf predicts \"correct\" for target 0 out of 183 (0.00%) (fails to give a valid judgement in 1 cases).\n",
      "CodeLlama-13b-Instruct-hf predicts \"correct\" for target 34 out of 181 (18.78%) (fails to give a valid judgement in 3 cases).\n",
      "CodeLlama-34b-Instruct-hf predicts \"correct\" for target 97 out of 183 (53.01%) (fails to give a valid judgement in 1 cases).\n",
      "gpt-3.5-turbo predicts \"correct\" for target 131 out of 184 (71.20%) (fails to give a valid judgement in 0 cases).\n",
      "gpt-4-turbo predicts \"correct\" for target 107 out of 171 (62.57%) (fails to give a valid judgement in 13 cases).\n"
     ]
    }
   ],
   "source": [
    "print(f'Shape before cleaning : {boolean.shape}.')\n",
    "boolean.dropna(subset = 'generated_code', inplace = True) # exlude all the cases in which the model in charge of the code generation was not able to produce a valid prediction\n",
    "boolean = boolean.loc[~boolean.target_id.isin(IDS_TO_DISCARD)] # exlude all the ids after the test suite cleaning\n",
    "print(f'Shape after cleaning : {boolean.shape}.')\n",
    "print()\n",
    "\n",
    "for col in [c for c in boolean.columns if '_rating' in c]:\n",
    "    boolean[col] = boolean[col].apply(lambda x : int(x) if x != '-' else x)\n",
    "    print('{0} was not able to generate a valid judgement {1} times out of {2}'.format(col.split('_rating')[0], boolean.loc[boolean[col] == '-'].shape[0], boolean.shape[0]))\n",
    "\n",
    "print()\n",
    "for col in [c for c in boolean.columns if '_rating' in c]:\n",
    "    bool_temp = boolean.loc[(boolean.generated_by == 'human_written') & (boolean[col] != '-')]\n",
    "    judge = col.split('_rating')[0]\n",
    "    print('{0} predicts \"correct\" for target {1} out of {2} ({3:.2f}%) (fails to give a valid judgement in {4} cases).'.format(judge, bool_temp[col].sum(), bool_temp.shape[0], bool_temp[col].sum()/bool_temp.shape[0]*100, 230-len(IDS_TO_DISCARD)-bool_temp.shape[0]))"
   ]
  },
  {
   "cell_type": "code",
   "execution_count": 8,
   "metadata": {},
   "outputs": [],
   "source": [
    "# bool_sns = pd.DataFrame()\n",
    "# for col in [c for c in boolean.columns if '_rating' in c]:\n",
    "#     cols_to_take = ['target_id', 'generated_by', 'generated_code', 'is_pass'] + [col]\n",
    "#     to_concat = boolean[cols_to_take]\n",
    "#     to_concat.rename(columns = {col : 'rating'}, inplace = True)\n",
    "#     to_concat['model'] = col.split('_rating')[0]\n",
    "#     # to_concat = to_concat.loc[to_concat.rating != '-'] # exlude all the cases in which the judge model was not able to procude a valid judgement\n",
    "#     bool_sns = pd.concat([bool_sns, to_concat])\n",
    "# bool_sns.loc[(scale_sns.generated_by == 'human_written') & (bool_sns.rating == '-')].shape, bool_sns.shape"
   ]
  },
  {
   "cell_type": "code",
   "execution_count": 9,
   "metadata": {},
   "outputs": [
    {
     "name": "stderr",
     "output_type": "stream",
     "text": [
      "/var/folders/4l/l9t6kyb179q8hhckb219jw200000gn/T/ipykernel_5273/259829377.py:10: SettingWithCopyWarning: \n",
      "A value is trying to be set on a copy of a slice from a DataFrame.\n",
      "Try using .loc[row_indexer,col_indexer] = value instead\n",
      "\n",
      "See the caveats in the documentation: https://pandas.pydata.org/pandas-docs/stable/user_guide/indexing.html#returning-a-view-versus-a-copy\n",
      "  boolean_temp[f'{model}_rating'] = boolean_temp[f'{model}_rating'].apply(lambda x : int(x))\n",
      "/var/folders/4l/l9t6kyb179q8hhckb219jw200000gn/T/ipykernel_5273/259829377.py:10: SettingWithCopyWarning: \n",
      "A value is trying to be set on a copy of a slice from a DataFrame.\n",
      "Try using .loc[row_indexer,col_indexer] = value instead\n",
      "\n",
      "See the caveats in the documentation: https://pandas.pydata.org/pandas-docs/stable/user_guide/indexing.html#returning-a-view-versus-a-copy\n",
      "  boolean_temp[f'{model}_rating'] = boolean_temp[f'{model}_rating'].apply(lambda x : int(x))\n",
      "/var/folders/4l/l9t6kyb179q8hhckb219jw200000gn/T/ipykernel_5273/259829377.py:10: SettingWithCopyWarning: \n",
      "A value is trying to be set on a copy of a slice from a DataFrame.\n",
      "Try using .loc[row_indexer,col_indexer] = value instead\n",
      "\n",
      "See the caveats in the documentation: https://pandas.pydata.org/pandas-docs/stable/user_guide/indexing.html#returning-a-view-versus-a-copy\n",
      "  boolean_temp[f'{model}_rating'] = boolean_temp[f'{model}_rating'].apply(lambda x : int(x))\n",
      "/var/folders/4l/l9t6kyb179q8hhckb219jw200000gn/T/ipykernel_5273/259829377.py:10: SettingWithCopyWarning: \n",
      "A value is trying to be set on a copy of a slice from a DataFrame.\n",
      "Try using .loc[row_indexer,col_indexer] = value instead\n",
      "\n",
      "See the caveats in the documentation: https://pandas.pydata.org/pandas-docs/stable/user_guide/indexing.html#returning-a-view-versus-a-copy\n",
      "  boolean_temp[f'{model}_rating'] = boolean_temp[f'{model}_rating'].apply(lambda x : int(x))\n",
      "/var/folders/4l/l9t6kyb179q8hhckb219jw200000gn/T/ipykernel_5273/259829377.py:10: SettingWithCopyWarning: \n",
      "A value is trying to be set on a copy of a slice from a DataFrame.\n",
      "Try using .loc[row_indexer,col_indexer] = value instead\n",
      "\n",
      "See the caveats in the documentation: https://pandas.pydata.org/pandas-docs/stable/user_guide/indexing.html#returning-a-view-versus-a-copy\n",
      "  boolean_temp[f'{model}_rating'] = boolean_temp[f'{model}_rating'].apply(lambda x : int(x))\n",
      "/var/folders/4l/l9t6kyb179q8hhckb219jw200000gn/T/ipykernel_5273/259829377.py:10: SettingWithCopyWarning: \n",
      "A value is trying to be set on a copy of a slice from a DataFrame.\n",
      "Try using .loc[row_indexer,col_indexer] = value instead\n",
      "\n",
      "See the caveats in the documentation: https://pandas.pydata.org/pandas-docs/stable/user_guide/indexing.html#returning-a-view-versus-a-copy\n",
      "  boolean_temp[f'{model}_rating'] = boolean_temp[f'{model}_rating'].apply(lambda x : int(x))\n",
      "/var/folders/4l/l9t6kyb179q8hhckb219jw200000gn/T/ipykernel_5273/259829377.py:10: SettingWithCopyWarning: \n",
      "A value is trying to be set on a copy of a slice from a DataFrame.\n",
      "Try using .loc[row_indexer,col_indexer] = value instead\n",
      "\n",
      "See the caveats in the documentation: https://pandas.pydata.org/pandas-docs/stable/user_guide/indexing.html#returning-a-view-versus-a-copy\n",
      "  boolean_temp[f'{model}_rating'] = boolean_temp[f'{model}_rating'].apply(lambda x : int(x))\n"
     ]
    },
    {
     "data": {
      "image/png": "[encoded data removed]",
      "text/plain": [
       "<Figure size 800x1500 with 16 Axes>"
      ]
     },
     "metadata": {},
     "output_type": "display_data"
    }
   ],
   "source": [
    "num_rows, num_cols = 4, 2\n",
    "fig, axs = plt.subplots(num_rows, num_cols, sharex = True, sharey = True, figsize = (8,15))\n",
    "models = ['deepseek-coder-1.3b-instruct', 'deepseek-coder-6.7b-instruct', 'deepseek-coder-33b-instruct', 'CodeLlama-7b-Instruct-hf', 'CodeLlama-13b-Instruct-hf', 'CodeLlama-34b-Instruct-hf', 'gpt-3.5-turbo', 'gpt-4-turbo']\n",
    "model_label = MODEL_NAMES\n",
    "\n",
    "for i in range(num_rows):\n",
    "    for j in range(num_cols):\n",
    "        model = models[num_cols * i + j]\n",
    "        boolean_temp = boolean.loc[boolean[f'{model}_rating'] != '-']\n",
    "        boolean_temp[f'{model}_rating'] = boolean_temp[f'{model}_rating'].apply(lambda x : int(x))\n",
    "        actual = boolean_temp.is_pass\n",
    "        predicted = boolean_temp[f'{model}_rating']\n",
    "        confusion_matrix = metrics.confusion_matrix(actual, predicted, normalize = 'true')\n",
    "        cm_display = metrics.ConfusionMatrixDisplay(confusion_matrix = confusion_matrix)\n",
    "        cm_display.plot(cmap = 'Greys', ax = axs[i,j], values_format = '.2f')\n",
    "        cm_display.im_.set_clim(0, 1)\n",
    "        axs[i,j].set_title(f'{model_label[num_cols * i + j]} ({boolean_temp.shape[0]})')\n",
    "        axs[i,j].set_xlabel('') if i != num_rows - 1 else axs[i,j].set_xlabel('Judged', fontsize = 12)\n",
    "        axs[i,j].set_ylabel('') if j != 0 else axs[i,j].set_ylabel('Test output', fontsize = 12)\n",
    "\n",
    "        # if j == 0:\n",
    "        axs[i,j].set_yticks(ticks = [0, 1], labels = ['fail', 'pass'])\n",
    "        axs[i,j].set_xticks(ticks = [0, 1], labels = ['wrong', 'correct'])\n",
    "\n",
    "plt.show()"
   ]
  },
  {
   "cell_type": "code",
   "execution_count": 28,
   "metadata": {},
   "outputs": [
    {
     "name": "stderr",
     "output_type": "stream",
     "text": [
      "/var/folders/4l/l9t6kyb179q8hhckb219jw200000gn/T/ipykernel_6974/3844788466.py:4: SettingWithCopyWarning: \n",
      "A value is trying to be set on a copy of a slice from a DataFrame.\n",
      "Try using .loc[row_indexer,col_indexer] = value instead\n",
      "\n",
      "See the caveats in the documentation: https://pandas.pydata.org/pandas-docs/stable/user_guide/indexing.html#returning-a-view-versus-a-copy\n",
      "  boolean_temp[f'{model}_rating'] = boolean_temp[f'{model}_rating'].apply(lambda x : int(x))\n"
     ]
    },
    {
     "data": {
      "image/png": "[encoded data removed]",
      "text/plain": [
       "<Figure size 640x480 with 2 Axes>"
      ]
     },
     "metadata": {},
     "output_type": "display_data"
    }
   ],
   "source": [
    "model_idx = 5\n",
    "model = models[model_idx]\n",
    "boolean_temp = boolean.loc[boolean[f'{model}_rating'] != '-']\n",
    "boolean_temp[f'{model}_rating'] = boolean_temp[f'{model}_rating'].apply(lambda x : int(x))\n",
    "actual = boolean_temp.is_pass\n",
    "predicted = boolean_temp[f'{model}_rating']\n",
    "confusion_matrix = metrics.confusion_matrix(actual, predicted, normalize = 'true')\n",
    "cm_display = metrics.ConfusionMatrixDisplay(confusion_matrix = confusion_matrix)\n",
    "cm_display.plot(cmap = 'Greys', values_format = '.2f')\n",
    "cm_display.im_.set_clim(0, 1)\n",
    "plt.title(f'{model_label[model_idx]} ({boolean_temp.shape[0]})')\n",
    "plt.xlabel('Judged', fontsize = 12)\n",
    "plt.ylabel('Test output', fontsize = 12)\n",
    "\n",
    "plt.yticks(ticks = [0, 1], labels = ['fail', 'pass'])\n",
    "plt.xticks(ticks = [0, 1], labels = ['wrong', 'correct'])\n",
    "plt.savefig('/Users/giuseppecrupi/Desktop/demo.png', transparent = True)\n",
    "plt.show()"
   ]
  },
  {
   "cell_type": "markdown",
   "metadata": {},
   "source": [
    "# Spearman correlation & Kappa score\n",
    "Evaluate the Spearman correlation coefficient between the {0, 1} series of the is_pass field and the series of ratings given by the LLMs."
   ]
  },
  {
   "cell_type": "code",
   "execution_count": 10,
   "metadata": {},
   "outputs": [],
   "source": [
    "from scipy.stats import spearmanr\n",
    "from sklearn.metrics import cohen_kappa_score"
   ]
  },
  {
   "cell_type": "code",
   "execution_count": 11,
   "metadata": {},
   "outputs": [
    {
     "ename": "NameError",
     "evalue": "name 'scale' is not defined",
     "output_type": "error",
     "traceback": [
      "\u001b[0;31m---------------------------------------------------------------------------\u001b[0m",
      "\u001b[0;31mNameError\u001b[0m                                 Traceback (most recent call last)",
      "Cell \u001b[0;32mIn[11], line 3\u001b[0m\n\u001b[1;32m      1\u001b[0m \u001b[38;5;66;03m# scale spearman correlation\u001b[39;00m\n\u001b[1;32m      2\u001b[0m scale_spear_corr \u001b[38;5;241m=\u001b[39m []\n\u001b[0;32m----> 3\u001b[0m \u001b[38;5;28;01mfor\u001b[39;00m col \u001b[38;5;129;01min\u001b[39;00m [c \u001b[38;5;28;01mfor\u001b[39;00m c \u001b[38;5;129;01min\u001b[39;00m \u001b[43mscale\u001b[49m\u001b[38;5;241m.\u001b[39mcolumns \u001b[38;5;28;01mif\u001b[39;00m \u001b[38;5;124m'\u001b[39m\u001b[38;5;124m_rating\u001b[39m\u001b[38;5;124m'\u001b[39m \u001b[38;5;129;01min\u001b[39;00m c]:\n\u001b[1;32m      4\u001b[0m     scale_spear \u001b[38;5;241m=\u001b[39m scale\u001b[38;5;241m.\u001b[39mloc[scale[col] \u001b[38;5;241m!=\u001b[39m \u001b[38;5;124m'\u001b[39m\u001b[38;5;124m-\u001b[39m\u001b[38;5;124m'\u001b[39m]\n\u001b[1;32m      5\u001b[0m     corr \u001b[38;5;241m=\u001b[39m spearmanr(scale_spear[\u001b[38;5;124m'\u001b[39m\u001b[38;5;124mis_pass\u001b[39m\u001b[38;5;124m'\u001b[39m], scale_spear[col])\u001b[38;5;241m.\u001b[39mcorrelation\n",
      "\u001b[0;31mNameError\u001b[0m: name 'scale' is not defined"
     ]
    }
   ],
   "source": [
    "# scale spearman correlation\n",
    "scale_spear_corr = []\n",
    "for col in [c for c in scale.columns if '_rating' in c]:\n",
    "    scale_spear = scale.loc[scale[col] != '-']\n",
    "    corr = spearmanr(scale_spear['is_pass'], scale_spear[col]).correlation\n",
    "    scale_spear_corr.append('{0:.2f}'.format(corr, scale_spear.shape[0]))\n",
    "    print('{} : {:.2f} (number of judgments {})'.format(col.split('_')[0], corr, scale_spear.shape[0]))\n",
    "    # print(col, ':', corr, scale_spear.shape)"
   ]
  },
  {
   "cell_type": "code",
   "execution_count": 12,
   "metadata": {},
   "outputs": [
    {
     "name": "stdout",
     "output_type": "stream",
     "text": [
      "deepseek-coder-1.3b-instruct_rating : -0.14010436006157315 (928, 21)\n",
      "deepseek-coder-6.7b-instruct_rating : 0.11376982514562684 (1593, 21)\n",
      "deepseek-coder-33b-instruct_rating : 0.18886152519712274 (1611, 21)\n",
      "CodeLlama-7b-Instruct-hf_rating : -0.020144336965902458 (1614, 21)\n",
      "CodeLlama-13b-Instruct-hf_rating : 0.17134233061182821 (1612, 21)\n",
      "CodeLlama-34b-Instruct-hf_rating : 0.1966815515864931 (1613, 21)\n",
      "gpt-3.5-turbo_rating : 0.15686060962228504 (1615, 21)\n",
      "gpt-4-turbo_rating : 0.2363266530672399 (1588, 21)\n"
     ]
    }
   ],
   "source": [
    "# boolean spearman correlation\n",
    "bool_spear_corr = []\n",
    "for col in [c for c in boolean.columns if '_rating' in c]:\n",
    "    boolean_spear = boolean.loc[boolean[col] != '-']\n",
    "    corr = spearmanr(boolean_spear['is_pass'], boolean_spear[col]).correlation\n",
    "    bool_spear_corr.append('{0:.2f}'.format(corr, boolean_spear.shape[0]))\n",
    "    print(col, ':', corr, boolean_spear.shape)"
   ]
  },
  {
   "cell_type": "code",
   "execution_count": 13,
   "metadata": {},
   "outputs": [
    {
     "name": "stdout",
     "output_type": "stream",
     "text": [
      "deepseek-coder-1.3b-instruct_rating : -0.13062669465188126 (928, 21)\n",
      "deepseek-coder-6.7b-instruct_rating : 0.027484910238789073 (1593, 21)\n",
      "deepseek-coder-33b-instruct_rating : 0.1817884113033683 (1611, 21)\n",
      "CodeLlama-7b-Instruct-hf_rating : -0.005223001497385749 (1614, 21)\n",
      "CodeLlama-13b-Instruct-hf_rating : 0.15660245087595104 (1612, 21)\n",
      "CodeLlama-34b-Instruct-hf_rating : 0.18757780597670193 (1613, 21)\n",
      "gpt-3.5-turbo_rating : 0.12435182811932288 (1615, 21)\n",
      "gpt-4-turbo_rating : 0.19691473260819625 (1588, 21)\n"
     ]
    }
   ],
   "source": [
    "# boolean kappa score\n",
    "bool_kappa = []\n",
    "for col in [c for c in boolean.columns if '_rating' in c]:\n",
    "    boolean_kappa = boolean.loc[boolean[col] != '-']\n",
    "    score = cohen_kappa_score(boolean_kappa['is_pass'], boolean_kappa[col].astype(int))\n",
    "    bool_kappa.append('{0:.2f}'.format(score, boolean_kappa.shape[0]))\n",
    "    print(col, ':', score, boolean_kappa.shape)"
   ]
  },
  {
   "cell_type": "code",
   "execution_count": 14,
   "metadata": {},
   "outputs": [],
   "source": [
    "for col in [c for c in boolean.columns if '_rating' in c]:\n",
    "    boolean_temp = boolean.loc[boolean[col] != '-']\n",
    "    boolean_temp[['is_pass', col]].to_csv(f'/Users/giuseppecrupi/Desktop/{col}_kripp.csv', index = False, header = None)"
   ]
  },
  {
   "cell_type": "code",
   "execution_count": 15,
   "metadata": {},
   "outputs": [
    {
     "ename": "ValueError",
     "evalue": "All arrays must be of the same length",
     "output_type": "error",
     "traceback": [
      "\u001b[0;31m---------------------------------------------------------------------------\u001b[0m",
      "\u001b[0;31mValueError\u001b[0m                                Traceback (most recent call last)",
      "Cell \u001b[0;32mIn[15], line 1\u001b[0m\n\u001b[0;32m----> 1\u001b[0m df \u001b[38;5;241m=\u001b[39m \u001b[43mpd\u001b[49m\u001b[38;5;241;43m.\u001b[39;49m\u001b[43mDataFrame\u001b[49m\u001b[43m(\u001b[49m\u001b[43m{\u001b[49m\n\u001b[1;32m      2\u001b[0m \u001b[43m    \u001b[49m\u001b[38;5;124;43m'\u001b[39;49m\u001b[38;5;124;43mbool\u001b[39;49m\u001b[38;5;124;43m'\u001b[39;49m\u001b[43m \u001b[49m\u001b[43m:\u001b[49m\u001b[43m \u001b[49m\u001b[43mbool_spear_corr\u001b[49m\u001b[43m,\u001b[49m\n\u001b[1;32m      3\u001b[0m \u001b[43m    \u001b[49m\u001b[38;5;124;43m'\u001b[39;49m\u001b[38;5;124;43mscale\u001b[39;49m\u001b[38;5;124;43m'\u001b[39;49m\u001b[43m \u001b[49m\u001b[43m:\u001b[49m\u001b[43m \u001b[49m\u001b[43mscale_spear_corr\u001b[49m\u001b[43m,\u001b[49m\n\u001b[1;32m      4\u001b[0m \u001b[43m}\u001b[49m\u001b[43m)\u001b[49m\u001b[38;5;241m.\u001b[39mT\n\u001b[1;32m      6\u001b[0m df\u001b[38;5;241m.\u001b[39mcolumns \u001b[38;5;241m=\u001b[39m MODEL_NAMES\n\u001b[1;32m      7\u001b[0m \u001b[38;5;66;03m# df.columns = ['ds-1.3b', 'ds-6.7b', 'ds-33b', 'cl-7b', 'cl-13b', 'cl-34b', 'gpt-3.5-turbo', 'gpt-4-turbo']\u001b[39;00m\n",
      "File \u001b[0;32m~/Desktop/projects/1_llms_collaboration/.venv/lib/python3.12/site-packages/pandas/core/frame.py:767\u001b[0m, in \u001b[0;36mDataFrame.__init__\u001b[0;34m(self, data, index, columns, dtype, copy)\u001b[0m\n\u001b[1;32m    761\u001b[0m     mgr \u001b[38;5;241m=\u001b[39m \u001b[38;5;28mself\u001b[39m\u001b[38;5;241m.\u001b[39m_init_mgr(\n\u001b[1;32m    762\u001b[0m         data, axes\u001b[38;5;241m=\u001b[39m{\u001b[38;5;124m\"\u001b[39m\u001b[38;5;124mindex\u001b[39m\u001b[38;5;124m\"\u001b[39m: index, \u001b[38;5;124m\"\u001b[39m\u001b[38;5;124mcolumns\u001b[39m\u001b[38;5;124m\"\u001b[39m: columns}, dtype\u001b[38;5;241m=\u001b[39mdtype, copy\u001b[38;5;241m=\u001b[39mcopy\n\u001b[1;32m    763\u001b[0m     )\n\u001b[1;32m    765\u001b[0m \u001b[38;5;28;01melif\u001b[39;00m \u001b[38;5;28misinstance\u001b[39m(data, \u001b[38;5;28mdict\u001b[39m):\n\u001b[1;32m    766\u001b[0m     \u001b[38;5;66;03m# GH#38939 de facto copy defaults to False only in non-dict cases\u001b[39;00m\n\u001b[0;32m--> 767\u001b[0m     mgr \u001b[38;5;241m=\u001b[39m \u001b[43mdict_to_mgr\u001b[49m\u001b[43m(\u001b[49m\u001b[43mdata\u001b[49m\u001b[43m,\u001b[49m\u001b[43m \u001b[49m\u001b[43mindex\u001b[49m\u001b[43m,\u001b[49m\u001b[43m \u001b[49m\u001b[43mcolumns\u001b[49m\u001b[43m,\u001b[49m\u001b[43m \u001b[49m\u001b[43mdtype\u001b[49m\u001b[38;5;241;43m=\u001b[39;49m\u001b[43mdtype\u001b[49m\u001b[43m,\u001b[49m\u001b[43m \u001b[49m\u001b[43mcopy\u001b[49m\u001b[38;5;241;43m=\u001b[39;49m\u001b[43mcopy\u001b[49m\u001b[43m,\u001b[49m\u001b[43m \u001b[49m\u001b[43mtyp\u001b[49m\u001b[38;5;241;43m=\u001b[39;49m\u001b[43mmanager\u001b[49m\u001b[43m)\u001b[49m\n\u001b[1;32m    768\u001b[0m \u001b[38;5;28;01melif\u001b[39;00m \u001b[38;5;28misinstance\u001b[39m(data, ma\u001b[38;5;241m.\u001b[39mMaskedArray):\n\u001b[1;32m    769\u001b[0m     \u001b[38;5;28;01mfrom\u001b[39;00m \u001b[38;5;21;01mnumpy\u001b[39;00m\u001b[38;5;21;01m.\u001b[39;00m\u001b[38;5;21;01mma\u001b[39;00m \u001b[38;5;28;01mimport\u001b[39;00m mrecords\n",
      "File \u001b[0;32m~/Desktop/projects/1_llms_collaboration/.venv/lib/python3.12/site-packages/pandas/core/internals/construction.py:503\u001b[0m, in \u001b[0;36mdict_to_mgr\u001b[0;34m(data, index, columns, dtype, typ, copy)\u001b[0m\n\u001b[1;32m    499\u001b[0m     \u001b[38;5;28;01melse\u001b[39;00m:\n\u001b[1;32m    500\u001b[0m         \u001b[38;5;66;03m# dtype check to exclude e.g. range objects, scalars\u001b[39;00m\n\u001b[1;32m    501\u001b[0m         arrays \u001b[38;5;241m=\u001b[39m [x\u001b[38;5;241m.\u001b[39mcopy() \u001b[38;5;28;01mif\u001b[39;00m \u001b[38;5;28mhasattr\u001b[39m(x, \u001b[38;5;124m\"\u001b[39m\u001b[38;5;124mdtype\u001b[39m\u001b[38;5;124m\"\u001b[39m) \u001b[38;5;28;01melse\u001b[39;00m x \u001b[38;5;28;01mfor\u001b[39;00m x \u001b[38;5;129;01min\u001b[39;00m arrays]\n\u001b[0;32m--> 503\u001b[0m \u001b[38;5;28;01mreturn\u001b[39;00m \u001b[43marrays_to_mgr\u001b[49m\u001b[43m(\u001b[49m\u001b[43marrays\u001b[49m\u001b[43m,\u001b[49m\u001b[43m \u001b[49m\u001b[43mcolumns\u001b[49m\u001b[43m,\u001b[49m\u001b[43m \u001b[49m\u001b[43mindex\u001b[49m\u001b[43m,\u001b[49m\u001b[43m \u001b[49m\u001b[43mdtype\u001b[49m\u001b[38;5;241;43m=\u001b[39;49m\u001b[43mdtype\u001b[49m\u001b[43m,\u001b[49m\u001b[43m \u001b[49m\u001b[43mtyp\u001b[49m\u001b[38;5;241;43m=\u001b[39;49m\u001b[43mtyp\u001b[49m\u001b[43m,\u001b[49m\u001b[43m \u001b[49m\u001b[43mconsolidate\u001b[49m\u001b[38;5;241;43m=\u001b[39;49m\u001b[43mcopy\u001b[49m\u001b[43m)\u001b[49m\n",
      "File \u001b[0;32m~/Desktop/projects/1_llms_collaboration/.venv/lib/python3.12/site-packages/pandas/core/internals/construction.py:114\u001b[0m, in \u001b[0;36marrays_to_mgr\u001b[0;34m(arrays, columns, index, dtype, verify_integrity, typ, consolidate)\u001b[0m\n\u001b[1;32m    111\u001b[0m \u001b[38;5;28;01mif\u001b[39;00m verify_integrity:\n\u001b[1;32m    112\u001b[0m     \u001b[38;5;66;03m# figure out the index, if necessary\u001b[39;00m\n\u001b[1;32m    113\u001b[0m     \u001b[38;5;28;01mif\u001b[39;00m index \u001b[38;5;129;01mis\u001b[39;00m \u001b[38;5;28;01mNone\u001b[39;00m:\n\u001b[0;32m--> 114\u001b[0m         index \u001b[38;5;241m=\u001b[39m \u001b[43m_extract_index\u001b[49m\u001b[43m(\u001b[49m\u001b[43marrays\u001b[49m\u001b[43m)\u001b[49m\n\u001b[1;32m    115\u001b[0m     \u001b[38;5;28;01melse\u001b[39;00m:\n\u001b[1;32m    116\u001b[0m         index \u001b[38;5;241m=\u001b[39m ensure_index(index)\n",
      "File \u001b[0;32m~/Desktop/projects/1_llms_collaboration/.venv/lib/python3.12/site-packages/pandas/core/internals/construction.py:677\u001b[0m, in \u001b[0;36m_extract_index\u001b[0;34m(data)\u001b[0m\n\u001b[1;32m    675\u001b[0m lengths \u001b[38;5;241m=\u001b[39m \u001b[38;5;28mlist\u001b[39m(\u001b[38;5;28mset\u001b[39m(raw_lengths))\n\u001b[1;32m    676\u001b[0m \u001b[38;5;28;01mif\u001b[39;00m \u001b[38;5;28mlen\u001b[39m(lengths) \u001b[38;5;241m>\u001b[39m \u001b[38;5;241m1\u001b[39m:\n\u001b[0;32m--> 677\u001b[0m     \u001b[38;5;28;01mraise\u001b[39;00m \u001b[38;5;167;01mValueError\u001b[39;00m(\u001b[38;5;124m\"\u001b[39m\u001b[38;5;124mAll arrays must be of the same length\u001b[39m\u001b[38;5;124m\"\u001b[39m)\n\u001b[1;32m    679\u001b[0m \u001b[38;5;28;01mif\u001b[39;00m have_dicts:\n\u001b[1;32m    680\u001b[0m     \u001b[38;5;28;01mraise\u001b[39;00m \u001b[38;5;167;01mValueError\u001b[39;00m(\n\u001b[1;32m    681\u001b[0m         \u001b[38;5;124m\"\u001b[39m\u001b[38;5;124mMixing dicts with non-Series may lead to ambiguous ordering.\u001b[39m\u001b[38;5;124m\"\u001b[39m\n\u001b[1;32m    682\u001b[0m     )\n",
      "\u001b[0;31mValueError\u001b[0m: All arrays must be of the same length"
     ]
    }
   ],
   "source": [
    "df = pd.DataFrame({\n",
    "    'bool' : bool_spear_corr,\n",
    "    'scale' : scale_spear_corr,\n",
    "}).T\n",
    "\n",
    "df.columns = MODEL_NAMES\n",
    "# df.columns = ['ds-1.3b', 'ds-6.7b', 'ds-33b', 'cl-7b', 'cl-13b', 'cl-34b', 'gpt-3.5-turbo', 'gpt-4-turbo']\n",
    "print(df.to_latex())"
   ]
  },
  {
   "cell_type": "code",
   "execution_count": 16,
   "metadata": {},
   "outputs": [
    {
     "name": "stdout",
     "output_type": "stream",
     "text": [
      "\\begin{tabular}{lllllllll}\n",
      "\\toprule\n",
      " & DeepSeek Coder 1.3B & DeepSeek Coder 6.7B & DeepSeek Coder 33B & CodeLlama 7B & CodeLlama 13B & CodeLlama 34B & GPT-3.5-turbo & GPT-4-turbo \\\\\n",
      "\\midrule\n",
      "bool & -0.13 & 0.03 & 0.18 & -0.01 & 0.16 & 0.19 & 0.12 & 0.20 \\\\\n",
      "\\bottomrule\n",
      "\\end{tabular}\n",
      "\n"
     ]
    }
   ],
   "source": [
    "df = pd.DataFrame({\n",
    "    'bool' : bool_kappa\n",
    "}).T\n",
    "\n",
    "df.columns = MODEL_NAMES\n",
    "# df.columns = ['ds-1.3b', 'ds-6.7b', 'ds-33b', 'cl-7b', 'cl-13b', 'cl-34b', 'gpt-3.5-turbo', 'gpt-4-turbo']\n",
    "print(df.to_latex())"
   ]
  },
  {
   "cell_type": "markdown",
   "metadata": {},
   "source": [
    "# R analysis (boolean)"
   ]
  },
  {
   "cell_type": "code",
   "execution_count": 24,
   "metadata": {},
   "outputs": [],
   "source": [
    "# # write csv for R analysis\n",
    "# # CORRELATION BETWEEN LLM JUDGEMENT AND GROUND TRUTH\n",
    "# for col in [c for c in boolean.columns if '_rating' in c]:\n",
    "#     boolean_spear = boolean.loc[boolean[col] != '-'][[col, 'is_pass']]\n",
    "#     boolean_spear.rename(columns = {col : 'Model', 'is_pass' : 'Test'}, inplace = True)\n",
    "#     boolean_spear.to_csv(f'../../llms_as_judge/results/Ranalysis/{col.split('_rating')[0]}_boolean_judgement-vs-tests.csv', index = False)"
   ]
  },
  {
   "cell_type": "code",
   "execution_count": null,
   "metadata": {},
   "outputs": [
    {
     "name": "stdout",
     "output_type": "stream",
     "text": [
      "deepseek-coder-1.3b-instruct predicts \"correct\" for target 14 out of 104 (13.46%) (fails to give a valid judgement in 80 cases).\n",
      "deepseek-coder-6.7b-instruct predicts \"correct\" for target 177 out of 178 (99.44%) (fails to give a valid judgement in 6 cases).\n",
      "deepseek-coder-33b-instruct predicts \"correct\" for target 58 out of 183 (31.69%) (fails to give a valid judgement in 1 cases).\n",
      "CodeLlama-7b-Instruct-hf predicts \"correct\" for target 0 out of 183 (0.00%) (fails to give a valid judgement in 1 cases).\n",
      "CodeLlama-13b-Instruct-hf predicts \"correct\" for target 34 out of 181 (18.78%) (fails to give a valid judgement in 3 cases).\n",
      "CodeLlama-34b-Instruct-hf predicts \"correct\" for target 97 out of 183 (53.01%) (fails to give a valid judgement in 1 cases).\n",
      "gpt-3.5-turbo predicts \"correct\" for target 131 out of 184 (71.20%) (fails to give a valid judgement in 0 cases).\n",
      "gpt-4-turbo predicts \"correct\" for target 107 out of 171 (62.57%) (fails to give a valid judgement in 13 cases).\n"
     ]
    }
   ],
   "source": [
    "# write csv for R analysis\n",
    "# P-VALUE LLM \n",
    "# - self judgement VS judgement of all other LLMs\n",
    "# - self judgement VS judgement of all other LLMs not belonging to the same family\n",
    "# - self judgement VS judgement of human witten functions\n",
    "\n",
    "for col in [c for c in boolean.columns if '_rating' in c]:\n",
    "    boolean_temp = boolean.loc[(boolean[col] != '-') & (boolean.is_pass == 1)][['generated_by', col, 'is_pass']] # SELECT ONLY PASSED \n",
    "    judge = col.split('_rating')[0]\n",
    "    family_name = col.split('-')[0]\n",
    "\n",
    "    itsown = np.array(boolean_temp.loc[boolean_temp.generated_by == judge][col]) # judjements that the model in judge as given to the candidates proposed by judge itself\n",
    "    all_but_family = np.array(boolean_temp.loc[(~boolean_temp.generated_by.str.contains(family_name)) & (boolean_temp.generated_by != 'human_written')][col]) # judjements that the model in judge as given to the candidates proposed by all the other LLMs not belonging to its family\n",
    "    all_others = np.array(boolean_temp.loc[(boolean_temp.generated_by != judge) & (boolean_temp.generated_by != 'human_written')][col]) # judjements that the model in judge as given to the candidates proposed by all the other LLMs\n",
    "    human = np.array(boolean_temp.loc[boolean_temp.generated_by == 'human_written'][col]) # judjements that the model in judge as given to the target methods\n",
    "    while itsown.shape[0] < all_others.shape[0]:\n",
    "        itsown = np.concatenate((itsown, np.array([np.nan])))\n",
    "    while all_but_family.shape[0] < all_others.shape[0]:\n",
    "        all_but_family = np.concatenate((all_but_family, np.array([np.nan])))\n",
    "    while human.shape[0] < all_others.shape[0]:\n",
    "        human = np.concatenate((human, np.array([np.nan])))\n",
    "    \n",
    "    pd.DataFrame({\n",
    "        'Model' : itsown,\n",
    "        'all_LLM' : all_others,\n",
    "        'all_Minus' : all_but_family,\n",
    "        'humans' : human\n",
    "    }).to_csv(f'../../llms_as_judge/results/Ranalysis/{judge}_boolean-vs-others_onlypass.csv', index = False)"
   ]
  },
  {
   "cell_type": "code",
   "execution_count": 15,
   "metadata": {},
   "outputs": [],
   "source": [
    "# write csv for R analysis\n",
    "# P-VALUE LLM \n",
    "# - self judgement VS judgement of all other LLMs\n",
    "# - self judgement VS judgement of all other LLMs not belonging to the same family\n",
    "# - self judgement VS judgement of human witten functions\n",
    "\n",
    "for col in [c for c in boolean.columns if '_rating' in c]:\n",
    "    boolean_temp = boolean.loc[boolean[col] != '-'][['generated_by', col, 'is_pass']]\n",
    "    judge = col.split('_rating')[0]\n",
    "    family_name = col.split('-')[0]\n",
    "\n",
    "    temp = boolean_temp.loc[boolean_temp.generated_by == judge]\n",
    "    itsown = np.array(temp[col] - temp.is_pass) # judjements that the model in judge as given to the candidates proposed by judge itself\n",
    "    \n",
    "    temp = boolean_temp.loc[(~boolean_temp.generated_by.str.contains(family_name)) & (boolean_temp.generated_by != 'human_written')]\n",
    "    all_but_family = np.array(temp[col] - temp.is_pass) # judjements that the model in judge as given to the candidates proposed by all the other LLMs not belonging to its family\n",
    "    \n",
    "    temp = boolean_temp.loc[(boolean_temp.generated_by != judge) & (boolean_temp.generated_by != 'human_written')]\n",
    "    all_others = np.array(temp[col] - temp.is_pass) # judjements that the model in judge as given to the candidates proposed by all the other LLMs\n",
    "    \n",
    "    temp = boolean_temp.loc[boolean_temp.generated_by == 'human_written']\n",
    "    human = np.array(temp[col] - temp.is_pass) # judjements that the model in judge as given to the target methods\n",
    "    while itsown.shape[0] < all_others.shape[0]:\n",
    "        itsown = np.concatenate((itsown, np.array([np.nan])))\n",
    "    while all_but_family.shape[0] < all_others.shape[0]:\n",
    "        all_but_family = np.concatenate((all_but_family, np.array([np.nan])))\n",
    "    while human.shape[0] < all_others.shape[0]:\n",
    "        human = np.concatenate((human, np.array([np.nan])))\n",
    "    \n",
    "    pd.DataFrame({\n",
    "        'Model' : itsown,\n",
    "        'all_LLM' : all_others,\n",
    "        'all_Minus' : all_but_family,\n",
    "        'humans' : human\n",
    "    }).to_csv(f'../../2_llms_as_judge/results/tse/cg_judgement/Ranalysis/{judge}_boolean-vs-others.csv', index = False)"
   ]
  },
  {
   "cell_type": "markdown",
   "metadata": {},
   "source": [
    "# R analysis (scale)"
   ]
  },
  {
   "cell_type": "code",
   "execution_count": 19,
   "metadata": {},
   "outputs": [],
   "source": [
    "# write csv for R analysis\n",
    "# CORRELATION BETWEEN LLM JUDGEMENT AND GROUND TRUTH\n",
    "for col in [c for c in scale.columns if '_rating' in c]:\n",
    "    scale_spear = scale.loc[scale[col] != '-'][[col, 'is_pass']]\n",
    "    scale_spear.rename(columns = {col : 'Model', 'is_pass' : 'Test'}, inplace = True)\n",
    "    scale_spear.to_csv(f'../../llms_as_judge/results/Ranalysis/{col.split('_rating')[0]}_scale_judgement-vs-tests.csv', index = False)"
   ]
  },
  {
   "cell_type": "code",
   "execution_count": 17,
   "metadata": {},
   "outputs": [],
   "source": [
    "# write csv for R analysis\n",
    "# P-VALUE LLM \n",
    "# - self judgement VS judgement of all other LLMs\n",
    "# - self judgement VS judgement of all other LLMs not belonging to the same family\n",
    "# - self judgement VS judgement of human witten functions\n",
    "\n",
    "for col in [c for c in scale.columns if '_rating' in c]:\n",
    "    scale_temp = scale.loc[(scale[col] != '-') & (scale.is_pass == 0)][['generated_by', col]] # SELECT ONLY PASSED \n",
    "    judge = col.split('_rating')[0]\n",
    "    family_name = col.split('-')[0]\n",
    "\n",
    "    itsown = np.array(scale_temp.loc[scale_temp.generated_by == judge][col]) # judjements that the model in judge as given to the candidates proposed by judge itself\n",
    "    all_but_family = np.array(scale_temp.loc[(~scale_temp.generated_by.str.contains(family_name)) & (scale_temp.generated_by != 'human_written')][col]) # judjements that the model in judge as given to the candidates proposed by all the other LLMs not belonging to its family\n",
    "    all_others = np.array(scale_temp.loc[(scale_temp.generated_by != judge) & (scale_temp.generated_by != 'human_written')][col]) # judjements that the model in judge as given to the candidates proposed by all the other LLMs\n",
    "    human = np.array(scale_temp.loc[scale_temp.generated_by == 'human_written'][col]) # judjements that the model in judge as given to the target methods\n",
    "    while itsown.shape[0] < all_others.shape[0]:\n",
    "        itsown = np.concatenate((itsown, np.array([np.nan])))\n",
    "    while all_but_family.shape[0] < all_others.shape[0]:\n",
    "        all_but_family = np.concatenate((all_but_family, np.array([np.nan])))\n",
    "    while human.shape[0] < all_others.shape[0]:\n",
    "        human = np.concatenate((human, np.array([np.nan])))\n",
    "    \n",
    "    pd.DataFrame({\n",
    "        'Model' : itsown,\n",
    "        'all_LLM' : all_others,\n",
    "        'all_Minus' : all_but_family,\n",
    "        'humans' : human\n",
    "    }).to_csv(f'../../2_llms_as_judge/results/tse/cg_judgement/Ranalysis/5level/notpass/{judge}_scale-vs-others_nopass.csv', index = False)"
   ]
  },
  {
   "cell_type": "markdown",
   "metadata": {},
   "source": [
    "# Self bias boolean\n",
    "Evaluate how many times has a LLM judged as correct a function that passes the tests."
   ]
  },
  {
   "cell_type": "code",
   "execution_count": 17,
   "metadata": {},
   "outputs": [
    {
     "name": "stdout",
     "output_type": "stream",
     "text": [
      "judge : deepseek-coder-1.3b-instruct_rating\n",
      "judge : deepseek-coder-6.7b-instruct_rating\n",
      "judge : deepseek-coder-33b-instruct_rating\n",
      "judge : CodeLlama-7b-Instruct-hf_rating\n",
      "judge : CodeLlama-13b-Instruct-hf_rating\n",
      "judge : CodeLlama-34b-Instruct-hf_rating\n",
      "judge : gpt-3.5-turbo_rating\n",
      "judge : gpt-4-turbo_rating\n",
      "\\begin{tabular}{lrrrrrrrrr}\n",
      "\\toprule\n",
      " & DSC 1.3B & DSC 6.7B & DSC 33B & CL 7B & CL 13B & CL 34B & GPT 3.5 & GPT 4 & Human Written \\\\\n",
      "\\midrule\n",
      "DSC 1.3B & 0.79 & 0.11 & 0.15 & 0.18 & 0.88 & 0.84 & 0.94 & 0.95 & 0.13 \\\\\n",
      "DSC 6.7B & 1.00 & 1.00 & 1.00 & 1.00 & 1.00 & 1.00 & 1.00 & 1.00 & 0.99 \\\\\n",
      "DSC 33B & 0.73 & 0.83 & 0.79 & 0.68 & 0.78 & 0.72 & 0.87 & 0.89 & 0.32 \\\\\n",
      "CL 7B & 0.00 & 0.00 & 0.01 & 0.02 & 0.02 & 0.03 & 0.02 & 0.00 & 0.00 \\\\\n",
      "CL 13B & 0.22 & 0.26 & 0.25 & 0.25 & 0.25 & 0.21 & 0.71 & 0.66 & 0.19 \\\\\n",
      "CL 34B & 0.64 & 0.68 & 0.69 & 0.75 & 0.71 & 0.67 & 0.80 & 0.90 & 0.53 \\\\\n",
      "GPT 3.5 & 0.84 & 0.92 & 0.84 & 0.91 & 0.82 & 0.79 & 0.89 & 0.91 & 0.71 \\\\\n",
      "GPT 4 & 0.82 & 0.92 & 0.93 & 0.85 & 0.89 & 0.84 & 1.00 & 0.99 & 0.63 \\\\\n",
      "\\bottomrule\n",
      "\\end{tabular}\n",
      "\n"
     ]
    }
   ],
   "source": [
    "models = ['deepseek-coder-1.3b-instruct', 'deepseek-coder-6.7b-instruct', 'deepseek-coder-33b-instruct', 'CodeLlama-7b-Instruct-hf', 'CodeLlama-13b-Instruct-hf', 'CodeLlama-34b-Instruct-hf', 'gpt-3.5-turbo', 'gpt-4-turbo', 'human_written']\n",
    "rating_cols = [c for c in boolean.columns if '_rating' in c]\n",
    "battle_ship = np.zeros((len(rating_cols), len(models)))\n",
    "\n",
    "for row, judge in enumerate(rating_cols):\n",
    "    print(f'judge : {judge}')\n",
    "    for col, candidate in enumerate(models):\n",
    "        bool_temp = boolean.loc[(boolean.generated_by == candidate) & (boolean[judge] != '-') & (boolean.is_pass == 1)]\n",
    "        # bool_temp = bool_temp.loc[bool_temp[judge] != '-']\n",
    "        battle_ship[row, col] = bool_temp[judge].sum() / bool_temp.shape[0]\n",
    "\n",
    "d = {k : v for k, v in zip(models, battle_ship)}\n",
    "df = pd.DataFrame(d).T\n",
    "df.columns = models\n",
    "\n",
    "df.columns = MODEL_NAMES_SHORT + ['Human Written']\n",
    "df.index = MODEL_NAMES_SHORT\n",
    "print(df.to_latex(index = True, float_format = \"{:.2f}\".format))"
   ]
  },
  {
   "cell_type": "code",
   "execution_count": 18,
   "metadata": {},
   "outputs": [
    {
     "name": "stdout",
     "output_type": "stream",
     "text": [
      "\\begin{tabular}{lrrrrrrrrr}\n",
      "\\toprule\n",
      " & DSC 1.3B & DSC 6.7B & DSC 33B & CL 7B & CL 13B & CL 34B & GPT 3.5 & GPT 4 & Human Written \\\\\n",
      "\\midrule\n",
      "DSC 1.3B & 0.63 & -0.08 & -0.23 & -0.10 & 0.53 & 0.53 & 0.52 & 0.56 & -0.87 \\\\\n",
      "DSC 6.7B & 0.72 & 0.70 & 0.61 & 0.66 & 0.62 & 0.64 & 0.58 & 0.62 & -0.01 \\\\\n",
      "DSC 33B & 0.25 & 0.27 & 0.23 & 0.21 & 0.22 & 0.19 & 0.27 & 0.30 & -0.68 \\\\\n",
      "CL 7B & -0.24 & -0.30 & -0.37 & -0.31 & -0.36 & -0.32 & -0.28 & -0.37 & -1.00 \\\\\n",
      "CL 13B & -0.07 & -0.16 & -0.23 & -0.18 & -0.20 & -0.22 & 0.18 & 0.04 & -0.81 \\\\\n",
      "CL 34B & 0.23 & 0.25 & 0.15 & 0.19 & 0.17 & 0.16 & 0.34 & 0.36 & -0.47 \\\\\n",
      "GPT 3.5 & 0.33 & 0.50 & 0.42 & 0.46 & 0.35 & 0.32 & 0.43 & 0.46 & -0.29 \\\\\n",
      "GPT 4 & 0.33 & 0.41 & 0.40 & 0.34 & 0.34 & 0.29 & 0.41 & 0.52 & -0.37 \\\\\n",
      "\\bottomrule\n",
      "\\end{tabular}\n",
      "\n"
     ]
    }
   ],
   "source": [
    "# here we consider both methods which pass and do not pass the tests. The metric is the difference between the judgments and the ground truth (is_pass)\n",
    "models = ['deepseek-coder-1.3b-instruct', 'deepseek-coder-6.7b-instruct', 'deepseek-coder-33b-instruct', 'CodeLlama-7b-Instruct-hf', 'CodeLlama-13b-Instruct-hf', 'CodeLlama-34b-Instruct-hf', 'gpt-3.5-turbo', 'gpt-4-turbo', 'human_written']\n",
    "rating_cols = [c for c in boolean.columns if '_rating' in c]\n",
    "battle_ship = np.zeros((len(rating_cols), len(models)))\n",
    "\n",
    "for row, judge in enumerate(rating_cols):\n",
    "    # print(f'judge : {judge}')\n",
    "    for col, candidate in enumerate(models):\n",
    "        bool_temp = boolean.loc[(boolean.generated_by == candidate) & (boolean[judge] != '-')]\n",
    "        battle_ship[row, col] = (bool_temp[judge] - bool_temp.is_pass).sum() / bool_temp.shape[0]\n",
    "\n",
    "d = {k : v for k, v in zip(models, battle_ship)}\n",
    "df = pd.DataFrame(d).T\n",
    "df.columns = models\n",
    "\n",
    "df.columns = MODEL_NAMES_SHORT + ['Human Written']\n",
    "df.index = MODEL_NAMES_SHORT\n",
    "print(df.to_latex(index = True, float_format = \"{:.2f}\".format))"
   ]
  },
  {
   "cell_type": "code",
   "execution_count": 24,
   "metadata": {},
   "outputs": [
    {
     "name": "stdout",
     "output_type": "stream",
     "text": [
      "0.27\n",
      "0.20\n",
      "0.12\n",
      "0.16\n",
      "0.21\n",
      "0.20\n",
      "0.31\n",
      "0.31\n",
      "-0.56\n",
      "\n",
      "0.21\n",
      "0.26\n",
      "0.19\n",
      "0.21\n",
      "0.17\n",
      "0.15\n",
      "0.33\n",
      "0.34\n",
      "-0.53\n"
     ]
    }
   ],
   "source": [
    "idx = ['DSC 33B', 'CL 13B', 'CL 34B', 'GPT 3.5', 'GPT 4']\n",
    "for i in df.mean(axis=0):\n",
    "    print(f'{i:.2f}')\n",
    "\n",
    "print()\n",
    "\n",
    "for i in df.loc[idx].mean(axis=0):\n",
    "    print(f'{i:.2f}')"
   ]
  },
  {
   "cell_type": "markdown",
   "metadata": {},
   "source": [
    "## Self bias scale"
   ]
  },
  {
   "cell_type": "code",
   "execution_count": 21,
   "metadata": {},
   "outputs": [
    {
     "name": "stdout",
     "output_type": "stream",
     "text": [
      "\\begin{tabular}{lrrrrrrrrr}\n",
      "\\toprule\n",
      " & DSC 1.3B & DSC 6.7B & DSC 33B & CL 7B & CL 13B & CL 34B & GPT 3.5 & GPT 4 & Human Written \\\\\n",
      "\\midrule\n",
      "DSC 1.3B & 3.95 & 4.00 & 4.00 & 4.00 & 3.97 & 4.00 & 3.98 & 4.00 & 3.91 \\\\\n",
      "DSC 6.7B & 5.00 & 4.98 & 4.91 & 4.98 & 4.97 & 4.97 & 5.00 & 5.00 & 4.68 \\\\\n",
      "DSC 33B & 4.82 & 4.87 & 4.85 & 4.79 & 4.89 & 4.90 & 4.89 & 4.93 & 4.77 \\\\\n",
      "CL 7B & 4.58 & 4.49 & 4.07 & 4.49 & 4.37 & 4.52 & 4.35 & 4.33 & 4.06 \\\\\n",
      "CL 13B & 3.98 & 3.98 & 3.97 & 3.98 & 3.95 & 3.95 & 4.00 & 3.99 & 4.01 \\\\\n",
      "CL 34B & 3.76 & 4.17 & 3.76 & 4.07 & 3.95 & 3.61 & 4.18 & 4.16 & 3.34 \\\\\n",
      "GPT 3.5 & 4.78 & 4.87 & 4.70 & 4.72 & 4.77 & 4.75 & 4.89 & 4.87 & 4.04 \\\\\n",
      "GPT 4 & 4.58 & 4.81 & 4.61 & 4.47 & 4.71 & 4.46 & 4.93 & 4.97 & 3.57 \\\\\n",
      "\\bottomrule\n",
      "\\end{tabular}\n",
      "\n"
     ]
    }
   ],
   "source": [
    "models = ['deepseek-coder-1.3b-instruct', 'deepseek-coder-6.7b-instruct', 'deepseek-coder-33b-instruct', 'CodeLlama-7b-Instruct-hf', 'CodeLlama-13b-Instruct-hf', 'CodeLlama-34b-Instruct-hf', 'gpt-3.5-turbo', 'gpt-4-turbo', 'human_written']\n",
    "rating_cols = [c for c in scale.columns if '_rating' in c]\n",
    "battle_ship = np.zeros((len(rating_cols), len(models)))\n",
    "\n",
    "for row, judge in enumerate(rating_cols):\n",
    "    for col, candidate in enumerate(models):\n",
    "        scale_temp = scale.loc[(scale.generated_by == candidate) & (scale[judge] != '-') & (scale.is_pass == 1)]\n",
    "        battle_ship[row, col] = scale_temp[judge].sum() / scale_temp.shape[0]\n",
    "\n",
    "d = {k : v for k, v in zip(models, battle_ship)}\n",
    "df = pd.DataFrame(d).T\n",
    "df.columns = models\n",
    "\n",
    "df.columns = MODEL_NAMES_SHORT + ['Human Written']\n",
    "df.index = MODEL_NAMES_SHORT\n",
    "print(df.to_latex(index = True, float_format = \"{:.2f}\".format))"
   ]
  },
  {
   "cell_type": "code",
   "execution_count": 30,
   "metadata": {},
   "outputs": [
    {
     "data": {
      "text/plain": [
       "DSC 1.3B         4.382222\n",
       "DSC 6.7B         4.539623\n",
       "DSC 33B          4.379104\n",
       "CL 7B            4.407018\n",
       "CL 13B           4.455385\n",
       "CL 34B           4.334426\n",
       "GPT 3.5          4.578182\n",
       "GPT 4            4.582857\n",
       "Human Written    3.946864\n",
       "dtype: float64"
      ]
     },
     "execution_count": 30,
     "metadata": {},
     "output_type": "execute_result"
    }
   ],
   "source": [
    "df.loc[['DSC 33B', 'CL 13B', 'CL 34B', 'GPT 3.5', 'GPT 4']].mean(axis=0)"
   ]
  },
  {
   "cell_type": "code",
   "execution_count": null,
   "metadata": {},
   "outputs": [],
   "source": []
  },
  {
   "cell_type": "code",
   "execution_count": 31,
   "metadata": {},
   "outputs": [
    {
     "name": "stdout",
     "output_type": "stream",
     "text": [
      "\\begin{tabular}{lrrrrrrrr}\n",
      "\\toprule\n",
      " & DSC 1.3B & DSC 6.7B & DSC 33B & CL 7B & CL 13B & CL 34B & GPT 3.5 & GPT 4 \\\\\n",
      "\\midrule\n",
      "DSC 1.3B & 3.93 & 3.97 & 3.96 & 3.95 & 3.94 & 3.92 & 4.06 & 3.92 \\\\\n",
      "DSC 6.7B & 4.91 & 4.97 & 4.73 & 4.96 & 4.95 & 4.93 & 4.81 & 4.95 \\\\\n",
      "DSC 33B & 4.64 & 4.69 & 4.77 & 4.71 & 4.78 & 4.78 & 4.82 & 4.83 \\\\\n",
      "CL 7B & 4.48 & 4.51 & 4.10 & 4.43 & 4.37 & 4.50 & 4.47 & 4.36 \\\\\n",
      "CL 13B & 3.93 & 3.96 & 3.91 & 3.96 & 3.96 & 3.91 & 4.00 & 3.97 \\\\\n",
      "CL 34B & 3.05 & 3.63 & 3.07 & 3.60 & 3.12 & 3.16 & 3.28 & 3.25 \\\\\n",
      "GPT 3.5 & 3.88 & 4.28 & 4.06 & 4.19 & 4.32 & 4.22 & 4.29 & 4.56 \\\\\n",
      "GPT 4 & 3.17 & 3.67 & 3.79 & 3.52 & 3.61 & 3.36 & 3.50 & 4.39 \\\\\n",
      "\\bottomrule\n",
      "\\end{tabular}\n",
      "\n"
     ]
    }
   ],
   "source": [
    "models = ['deepseek-coder-1.3b-instruct', 'deepseek-coder-6.7b-instruct', 'deepseek-coder-33b-instruct', 'CodeLlama-7b-Instruct-hf', 'CodeLlama-13b-Instruct-hf', 'CodeLlama-34b-Instruct-hf', 'gpt-3.5-turbo', 'gpt-4-turbo']\n",
    "rating_cols = [c for c in scale.columns if '_rating' in c]\n",
    "battle_ship = np.zeros((len(rating_cols), len(models)))\n",
    "\n",
    "for row, judge in enumerate(rating_cols):\n",
    "    for col, candidate in enumerate(models):\n",
    "        scale_temp = scale.loc[(scale.generated_by == candidate) & (scale[judge] != '-') & (scale.is_pass == 0)]\n",
    "        battle_ship[row, col] = scale_temp[judge].sum() / scale_temp.shape[0]\n",
    "\n",
    "d = {k : v for k, v in zip(models, battle_ship)}\n",
    "df = pd.DataFrame(d).T\n",
    "df.columns = models\n",
    "\n",
    "df.columns = MODEL_NAMES_SHORT\n",
    "df.index = MODEL_NAMES_SHORT\n",
    "print(df.to_latex(index = True, float_format = \"{:.2f}\".format))"
   ]
  },
  {
   "cell_type": "code",
   "execution_count": 33,
   "metadata": {},
   "outputs": [
    {
     "data": {
      "text/plain": [
       "DSC 1.3B    3.998120\n",
       "DSC 6.7B    4.209096\n",
       "DSC 33B     4.049784\n",
       "CL 7B       4.165296\n",
       "CL 13B      4.131439\n",
       "CL 34B      4.096653\n",
       "GPT 3.5     4.154138\n",
       "GPT 4       4.279429\n",
       "dtype: float64"
      ]
     },
     "execution_count": 33,
     "metadata": {},
     "output_type": "execute_result"
    }
   ],
   "source": [
    "# df.loc[['DSC 33B', 'CL 13B', 'CL 34B', 'GPT 3.5', 'GPT 4']].mean(axis=0)\n",
    "df.mean(axis=0)"
   ]
  },
  {
   "cell_type": "code",
   "execution_count": null,
   "metadata": {},
   "outputs": [],
   "source": []
  }
 ],
 "metadata": {
  "kernelspec": {
   "display_name": ".venv",
   "language": "python",
   "name": "python3"
  },
  "language_info": {
   "codemirror_mode": {
    "name": "ipython",
    "version": 3
   },
   "file_extension": ".py",
   "mimetype": "text/x-python",
   "name": "python",
   "nbconvert_exporter": "python",
   "pygments_lexer": "ipython3",
   "version": "3.12.2"
  }
 },
 "nbformat": 4,
 "nbformat_minor": 2
}
